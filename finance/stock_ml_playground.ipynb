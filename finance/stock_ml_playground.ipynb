{
 "cells": [
  {
   "cell_type": "code",
   "execution_count": 722,
   "metadata": {
    "collapsed": true
   },
   "outputs": [],
   "source": [
    "import numpy as np\n",
    "import pandas as pd\n",
    "import pandas.io.data as web\n",
    "import matplotlib.pyplot as plt\n",
    "import datetime\n",
    "\n",
    "%matplotlib inline"
   ]
  },
  {
   "cell_type": "code",
   "execution_count": 750,
   "metadata": {
    "collapsed": true
   },
   "outputs": [],
   "source": [
    "start_dt = datetime.datetime(2006, 4, 26)"
   ]
  },
  {
   "cell_type": "code",
   "execution_count": 962,
   "metadata": {
    "collapsed": true
   },
   "outputs": [],
   "source": [
    "GLD = web.DataReader(\"VNQ\", 'yahoo', start_dt)"
   ]
  },
  {
   "cell_type": "code",
   "execution_count": 963,
   "metadata": {
    "collapsed": false
   },
   "outputs": [
    {
     "data": {
      "text/html": [
       "<div>\n",
       "<table border=\"1\" class=\"dataframe\">\n",
       "  <thead>\n",
       "    <tr style=\"text-align: right;\">\n",
       "      <th></th>\n",
       "      <th>Open</th>\n",
       "      <th>High</th>\n",
       "      <th>Low</th>\n",
       "      <th>Close</th>\n",
       "      <th>Volume</th>\n",
       "      <th>Adj Close</th>\n",
       "    </tr>\n",
       "    <tr>\n",
       "      <th>Date</th>\n",
       "      <th></th>\n",
       "      <th></th>\n",
       "      <th></th>\n",
       "      <th></th>\n",
       "      <th></th>\n",
       "      <th></th>\n",
       "    </tr>\n",
       "  </thead>\n",
       "  <tbody>\n",
       "    <tr>\n",
       "      <th>2006-04-26</th>\n",
       "      <td>65.419998</td>\n",
       "      <td>65.419998</td>\n",
       "      <td>64.820000</td>\n",
       "      <td>64.959999</td>\n",
       "      <td>61400</td>\n",
       "      <td>42.709552</td>\n",
       "    </tr>\n",
       "    <tr>\n",
       "      <th>2006-04-27</th>\n",
       "      <td>66.000000</td>\n",
       "      <td>66.000000</td>\n",
       "      <td>64.459999</td>\n",
       "      <td>65.370003</td>\n",
       "      <td>57900</td>\n",
       "      <td>42.979119</td>\n",
       "    </tr>\n",
       "    <tr>\n",
       "      <th>2006-04-28</th>\n",
       "      <td>65.620003</td>\n",
       "      <td>66.070000</td>\n",
       "      <td>65.400002</td>\n",
       "      <td>65.610001</td>\n",
       "      <td>63100</td>\n",
       "      <td>43.136911</td>\n",
       "    </tr>\n",
       "    <tr>\n",
       "      <th>2006-05-01</th>\n",
       "      <td>65.989998</td>\n",
       "      <td>66.080002</td>\n",
       "      <td>64.620003</td>\n",
       "      <td>64.820000</td>\n",
       "      <td>48800</td>\n",
       "      <td>42.617506</td>\n",
       "    </tr>\n",
       "    <tr>\n",
       "      <th>2006-05-02</th>\n",
       "      <td>65.000000</td>\n",
       "      <td>65.000000</td>\n",
       "      <td>63.799999</td>\n",
       "      <td>64.160004</td>\n",
       "      <td>51800</td>\n",
       "      <td>42.183575</td>\n",
       "    </tr>\n",
       "  </tbody>\n",
       "</table>\n",
       "</div>"
      ],
      "text/plain": [
       "                 Open       High        Low      Close  Volume  Adj Close\n",
       "Date                                                                     \n",
       "2006-04-26  65.419998  65.419998  64.820000  64.959999   61400  42.709552\n",
       "2006-04-27  66.000000  66.000000  64.459999  65.370003   57900  42.979119\n",
       "2006-04-28  65.620003  66.070000  65.400002  65.610001   63100  43.136911\n",
       "2006-05-01  65.989998  66.080002  64.620003  64.820000   48800  42.617506\n",
       "2006-05-02  65.000000  65.000000  63.799999  64.160004   51800  42.183575"
      ]
     },
     "execution_count": 963,
     "metadata": {},
     "output_type": "execute_result"
    }
   ],
   "source": [
    "GLD.head()"
   ]
  },
  {
   "cell_type": "code",
   "execution_count": 964,
   "metadata": {
    "collapsed": true
   },
   "outputs": [],
   "source": [
    "import util\n",
    "\n",
    "def average_true_range(XYZ, lookback=21):\n",
    "    XYZ_shift = XYZ.shift()\n",
    "    true_range = pd.DataFrame([\n",
    "        XYZ['High'] - XYZ['Low'],\n",
    "        abs(XYZ['High'] - XYZ_shift['Close']),\n",
    "        abs(XYZ['Low'] - XYZ_shift['Close'])\n",
    "    ]).max()\n",
    "    return pd.rolling_mean(true_range, lookback)\n",
    "\n",
    "def consecutive_up_down(series):\n",
    "    up = util.series(series)\n",
    "    down = util.series(series)\n",
    "    diff = series - series.shift()\n",
    "    \n",
    "    up[0] = 0\n",
    "    down[0] = 0\n",
    "\n",
    "    for i in range(1, len(series)):\n",
    "        if diff[i] >= 0:\n",
    "            up[i] = up[i - 1] + 1\n",
    "            down[i] = 0\n",
    "        else:\n",
    "            down[i] = down[i - 1] + 1\n",
    "            up[i] = 0\n",
    "    \n",
    "    return pd.DataFrame({'up_streak': up, 'down_streak': down})"
   ]
  },
  {
   "cell_type": "code",
   "execution_count": 965,
   "metadata": {
    "collapsed": false
   },
   "outputs": [
    {
     "data": {
      "text/plain": [
       "down    1178\n",
       "up      1207\n",
       "dtype: int64"
      ]
     },
     "execution_count": 965,
     "metadata": {},
     "output_type": "execute_result"
    }
   ],
   "source": [
    "# Turning return series into labels corresponding to direction and size,\n",
    "# by translating actual percent change into a rolling z-score to standardize it,\n",
    "# and then using the standardized scale to mark the return\n",
    "\n",
    "look_forward = 15\n",
    "returns = util.n_period_return(GLD['Adj Close'], look_forward)\n",
    "\n",
    "def label_z_score(score):\n",
    "    #if score < -2:\n",
    "    #    return 'bigger_down'\n",
    "    #if score < -1:\n",
    "    #    return 'big_down'\n",
    "    if score < 0:\n",
    "        return 'down'\n",
    "    #elif score > 2:\n",
    "    #    return 'bigger_up'\n",
    "    #elif score > 1:\n",
    "    #    return 'big_up'\n",
    "    elif score > 0:\n",
    "        return 'up'\n",
    "    \n",
    "\n",
    "# Free param: z score lookback: 20\n",
    "z = rolling_z_score(returns, 20)\n",
    "labels = z.apply(label_z_score)\n",
    "labels.groupby(labels).agg('count')"
   ]
  },
  {
   "cell_type": "code",
   "execution_count": 966,
   "metadata": {
    "collapsed": false
   },
   "outputs": [
    {
     "data": {
      "text/plain": [
       "0.066742786184624259"
      ]
     },
     "execution_count": 966,
     "metadata": {},
     "output_type": "execute_result"
    }
   ],
   "source": [
    "returns.std()"
   ]
  },
  {
   "cell_type": "code",
   "execution_count": 967,
   "metadata": {
    "collapsed": false
   },
   "outputs": [
    {
     "data": {
      "text/plain": [
       "0.0061054553089737356"
      ]
     },
     "execution_count": 967,
     "metadata": {},
     "output_type": "execute_result"
    }
   ],
   "source": [
    "returns.mean()"
   ]
  },
  {
   "cell_type": "code",
   "execution_count": 968,
   "metadata": {
    "collapsed": false
   },
   "outputs": [
    {
     "data": {
      "text/plain": [
       "<matplotlib.axes._subplots.AxesSubplot at 0x1131eb750>"
      ]
     },
     "execution_count": 968,
     "metadata": {},
     "output_type": "execute_result"
    },
    {
     "data": {
      "image/png": "[encoded data removed]",
      "text/plain": [
       "<matplotlib.figure.Figure at 0x11319c650>"
      ]
     },
     "metadata": {},
     "output_type": "display_data"
    }
   ],
   "source": [
    "returns.hist()"
   ]
  },
  {
   "cell_type": "code",
   "execution_count": 969,
   "metadata": {
    "collapsed": false
   },
   "outputs": [
    {
     "data": {
      "text/plain": [
       "<matplotlib.axes._subplots.AxesSubplot at 0x10fd3a750>"
      ]
     },
     "execution_count": 969,
     "metadata": {},
     "output_type": "execute_result"
    },
    {
     "data": {
      "image/png": "[encoded data removed]",
      "text/plain": [
       "<matplotlib.figure.Figure at 0x11228d510>"
      ]
     },
     "metadata": {},
     "output_type": "display_data"
    }
   ],
   "source": [
    "GLD['Adj Close'].plot(figsize=(16,9))"
   ]
  },
  {
   "cell_type": "code",
   "execution_count": 970,
   "metadata": {
    "collapsed": false
   },
   "outputs": [],
   "source": [
    "gld_close = GLD['Adj Close']\n",
    "\n",
    "df = pd.DataFrame({\n",
    "    'up_streak': up_down['up_streak'],\n",
    "    'down_streak': up_down['down_streak'],\n",
    "    'atr_5': average_true_range(GLD, 5),\n",
    "    #'atr_20': average_true_range(GLD, 20),\n",
    "    #'atr_50': average_true_range(GLD, 50),\n",
    "    'over_ma_5': gld_close > util.ma(gld_close, 5),\n",
    "    'over_ma_10': gld_close > util.ma(gld_close, 10),\n",
    "    'over_ma_20': gld_close > util.ma(gld_close, 20),\n",
    "    'over_ma_50': gld_close > util.ma(gld_close, 20),\n",
    "    'over_ma_100': gld_close > util.ma(gld_close, 20),\n",
    "    'ma50_over_ma_200': util.ma(gld_close, 50) > util.ma(gld_close, 200),\n",
    "    'hist_ret_5': util.n_period_return(gld_close, 5),\n",
    "    'hist_ret_10': util.n_period_return(gld_close, 10),\n",
    "    'hist_ret_15': util.n_period_return(gld_close, 15)\n",
    "})"
   ]
  },
  {
   "cell_type": "code",
   "execution_count": 982,
   "metadata": {
    "collapsed": false
   },
   "outputs": [
    {
     "data": {
      "text/plain": [
       "0.48241330422563489"
      ]
     },
     "execution_count": 982,
     "metadata": {},
     "output_type": "execute_result"
    }
   ],
   "source": [
    "from sklearn.cross_validation import cross_val_score\n",
    "from sklearn.tree import DecisionTreeClassifier\n",
    "\n",
    "target = labels.shift(-look_forward).fillna('down') #TODO: Something better\n",
    "clf = DecisionTreeClassifier(max_depth=8)\n",
    "np.average(cross_val_score(clf, features, target, cv=30))"
   ]
  },
  {
   "cell_type": "code",
   "execution_count": 983,
   "metadata": {
    "collapsed": false
   },
   "outputs": [
    {
     "data": {
      "text/html": [
       "<div>\n",
       "<table border=\"1\" class=\"dataframe\">\n",
       "  <thead>\n",
       "    <tr style=\"text-align: right;\">\n",
       "      <th>col_0</th>\n",
       "      <th>down</th>\n",
       "      <th>up</th>\n",
       "    </tr>\n",
       "    <tr>\n",
       "      <th>row_0</th>\n",
       "      <th></th>\n",
       "      <th></th>\n",
       "    </tr>\n",
       "  </thead>\n",
       "  <tbody>\n",
       "    <tr>\n",
       "      <th>down</th>\n",
       "      <td>892</td>\n",
       "      <td>320</td>\n",
       "    </tr>\n",
       "    <tr>\n",
       "      <th>up</th>\n",
       "      <td>390</td>\n",
       "      <td>817</td>\n",
       "    </tr>\n",
       "  </tbody>\n",
       "</table>\n",
       "</div>"
      ],
      "text/plain": [
       "col_0  down   up\n",
       "row_0           \n",
       "down    892  320\n",
       "up      390  817"
      ]
     },
     "execution_count": 983,
     "metadata": {},
     "output_type": "execute_result"
    }
   ],
   "source": [
    "clf.fit(features, target)\n",
    "pd.crosstab(target, clf.predict(features))"
   ]
  },
  {
   "cell_type": "code",
   "execution_count": 984,
   "metadata": {
    "collapsed": false
   },
   "outputs": [
    {
     "data": {
      "text/plain": [
       "[('atr_5', 0.22063646169517842),\n",
       " ('down_streak', 0.0081452336209034831),\n",
       " ('hist_ret_10', 0.1780938166958117),\n",
       " ('hist_ret_15', 0.29331591291788062),\n",
       " ('hist_ret_5', 0.16391023207945946),\n",
       " ('ma50_over_ma_200', 0.059390425178710814),\n",
       " ('over_ma_10', 0.017734702771312928),\n",
       " ('over_ma_100', 0.0),\n",
       " ('over_ma_20', 0.0),\n",
       " ('over_ma_5', 0.01016531058231959),\n",
       " ('over_ma_50', 0.0030544626078388066),\n",
       " ('up_streak', 0.045553441850584318)]"
      ]
     },
     "execution_count": 984,
     "metadata": {},
     "output_type": "execute_result"
    }
   ],
   "source": [
    "zip(df.columns, clf.feature_importances_)"
   ]
  },
  {
   "cell_type": "code",
   "execution_count": 985,
   "metadata": {
    "collapsed": false
   },
   "outputs": [
    {
     "data": {
      "text/plain": [
       "0.47967968985245413"
      ]
     },
     "execution_count": 985,
     "metadata": {},
     "output_type": "execute_result"
    }
   ],
   "source": [
    "from sklearn.ensemble import RandomForestClassifier\n",
    "clf = RandomForestClassifier(n_estimators=10, max_depth=4)\n",
    "np.average(cross_val_score(clf, features, target, cv=30))"
   ]
  },
  {
   "cell_type": "code",
   "execution_count": 989,
   "metadata": {
    "collapsed": false
   },
   "outputs": [
    {
     "data": {
      "text/html": [
       "<div>\n",
       "<table border=\"1\" class=\"dataframe\">\n",
       "  <thead>\n",
       "    <tr style=\"text-align: right;\">\n",
       "      <th>col_0</th>\n",
       "      <th>down</th>\n",
       "      <th>up</th>\n",
       "    </tr>\n",
       "    <tr>\n",
       "      <th>row_0</th>\n",
       "      <th></th>\n",
       "      <th></th>\n",
       "    </tr>\n",
       "  </thead>\n",
       "  <tbody>\n",
       "    <tr>\n",
       "      <th>down</th>\n",
       "      <td>433</td>\n",
       "      <td>286</td>\n",
       "    </tr>\n",
       "    <tr>\n",
       "      <th>up</th>\n",
       "      <td>383</td>\n",
       "      <td>350</td>\n",
       "    </tr>\n",
       "  </tbody>\n",
       "</table>\n",
       "</div>"
      ],
      "text/plain": [
       "col_0  down   up\n",
       "row_0           \n",
       "down    433  286\n",
       "up      383  350"
      ]
     },
     "execution_count": 989,
     "metadata": {},
     "output_type": "execute_result"
    }
   ],
   "source": [
    "from sklearn import cross_validation\n",
    "\n",
    "def random_train_test_crosstab(clf, test_size=0.6, random_state=None):\n",
    "    train_features, test_features, train_target, test_target = \\\n",
    "        cross_validation.train_test_split(\n",
    "            features, \n",
    "            target, \n",
    "            test_size=test_size,\n",
    "            random_state=random_state)\n",
    "\n",
    "    clf.fit(train_features, train_target)\n",
    "    return pd.crosstab(test_target, clf.predict(test_features))\n",
    "\n",
    "random_train_test_crosstab(clf)"
   ]
  },
  {
   "cell_type": "code",
   "execution_count": 990,
   "metadata": {
    "collapsed": false
   },
   "outputs": [
    {
     "data": {
      "text/plain": [
       "0.71026360032118852"
      ]
     },
     "execution_count": 990,
     "metadata": {},
     "output_type": "execute_result"
    }
   ],
   "source": [
    "import sklearn.naive_bayes as bayes\n",
    "np.average(\n",
    "    cross_val_score(\n",
    "        bayes.GaussianNB(), \n",
    "        np.array(df.fillna(0)), \n",
    "        labels.shift(-look_forward).fillna('down'), \n",
    "        cv=30))"
   ]
  },
  {
   "cell_type": "code",
   "execution_count": 998,
   "metadata": {
    "collapsed": false
   },
   "outputs": [
    {
     "data": {
      "text/html": [
       "<div>\n",
       "<table border=\"1\" class=\"dataframe\">\n",
       "  <thead>\n",
       "    <tr style=\"text-align: right;\">\n",
       "      <th>col_0</th>\n",
       "      <th>down</th>\n",
       "      <th>up</th>\n",
       "    </tr>\n",
       "    <tr>\n",
       "      <th>row_0</th>\n",
       "      <th></th>\n",
       "      <th></th>\n",
       "    </tr>\n",
       "  </thead>\n",
       "  <tbody>\n",
       "    <tr>\n",
       "      <th>down</th>\n",
       "      <td>423</td>\n",
       "      <td>310</td>\n",
       "    </tr>\n",
       "    <tr>\n",
       "      <th>up</th>\n",
       "      <td>337</td>\n",
       "      <td>382</td>\n",
       "    </tr>\n",
       "  </tbody>\n",
       "</table>\n",
       "</div>"
      ],
      "text/plain": [
       "col_0  down   up\n",
       "row_0           \n",
       "down    423  310\n",
       "up      337  382"
      ]
     },
     "execution_count": 998,
     "metadata": {},
     "output_type": "execute_result"
    }
   ],
   "source": [
    "clf = bayes.GaussianNB()\n",
    "clf.fit(np.array(df.fillna(0)), labels.shift(-look_forward).fillna('down'))\n",
    "random_train_test_crosstab(clf)"
   ]
  },
  {
   "cell_type": "code",
   "execution_count": null,
   "metadata": {
    "collapsed": true
   },
   "outputs": [],
   "source": []
  }
 ],
 "metadata": {
  "kernelspec": {
   "display_name": "Python 2",
   "language": "python",
   "name": "python2"
  },
  "language_info": {
   "codemirror_mode": {
    "name": "ipython",
    "version": 2
   },
   "file_extension": ".py",
   "mimetype": "text/x-python",
   "name": "python",
   "nbconvert_exporter": "python",
   "pygments_lexer": "ipython2",
   "version": "2.7.10"
  }
 },
 "nbformat": 4,
 "nbformat_minor": 0
}
