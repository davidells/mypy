{
 "cells": [
  {
   "cell_type": "code",
   "execution_count": 113,
   "metadata": {
    "collapsed": true
   },
   "outputs": [],
   "source": [
    "import numpy as np\n",
    "import pandas as pd\n",
    "import pandas.io.data as web\n",
    "import matplotlib.pyplot as plt\n",
    "import datetime\n",
    "\n",
    "import statsmodels.tsa.stattools as sms\n",
    "\n",
    "import mean_reversion as mr\n",
    "import optimize\n",
    "import portfolio\n",
    "import returns\n",
    "import strategies\n",
    "import util\n",
    "\n",
    "%matplotlib inline"
   ]
  },
  {
   "cell_type": "code",
   "execution_count": 260,
   "metadata": {
    "collapsed": false
   },
   "outputs": [],
   "source": [
    "def bollinger_mean_revert_fit(x, y):\n",
    "    strategy = lambda lookback: \\\n",
    "        strategies.rolling_hedge_mean_revert_strategy(x, y, lookback)\n",
    "    \n",
    "    return {\n",
    "        'lookback': optimize.vs_sharpe(\n",
    "            'lookback', [5, 10, 15, 20, 25, 30], strategy)\n",
    "    }\n",
    "        \n",
    "def bollinger_mean_revert(x, y, lookback=None):\n",
    "    if lookback is None:\n",
    "        lookback = bollinger_mean_revert_fit(x, y)['lookback']\n",
    "    \n",
    "    # Setup mean reversion portfolio to use for tradable zScore\n",
    "    strategy = strategies.rolling_hedge_mean_revert_strategy\n",
    "    (prices, weights, units) = strategy(x, y, lookback)\n",
    "    port = portfolio.portfolio_price(prices, weights)\n",
    "    \n",
    "    # Ok, now let's look at the half-life of this portfolio, this needs to be low (under 30)\n",
    "    # TODO: Test this? Throw it out if it doesn't meet standard?\n",
    "    halflife = mr.halflife(port)\n",
    "    cadf = sms.adfuller(port)[0]\n",
    "    hurst = mr.hurst_exponent(port.pct_change().fillna(0))[0]\n",
    "    \n",
    "    # Collect zScore and theoretical results in the form of a sharpe ratio\n",
    "    zScore = util.rolling_z_score(port, lookback)\n",
    "    rets = portfolio.portfolio_returns(universe, weights, -zScore)\n",
    "    theoretical_sharpe = returns.annual_sharpe(rets['returns'])\n",
    "    \n",
    "    # Collect units of this portfolio according to bollinger band strategy (buying and selling\n",
    "    # against the given zScore)    \n",
    "    units = strategies.bollinger_band_units(zScore, entryZScore=1.0, exitZScore=0.0)\n",
    "    results = portfolio.portfolio_returns(prices, weights, units)\n",
    "\n",
    "    results.update({\n",
    "        'lookback': lookback,\n",
    "        'halflife': halflife,\n",
    "        'cadf': cadf,\n",
    "        'hurst': hurst,\n",
    "        'theoretical_sharpe': theoretical_sharpe,\n",
    "        'units': units\n",
    "    })\n",
    "    \n",
    "    results.update(\n",
    "        returns.report(results['returns']))\n",
    "    \n",
    "    results.update(\n",
    "        strategies.report(units))\n",
    "    \n",
    "    return results\n",
    "\n",
    "def score_strategy(strategy_results):\n",
    "    return returns.annual_sharpe(strategy_results['returns'])"
   ]
  },
  {
   "cell_type": "code",
   "execution_count": 210,
   "metadata": {
    "collapsed": true
   },
   "outputs": [],
   "source": [
    "start_dt = datetime.datetime(2015, 1, 1)\n",
    "end_dt = datetime.datetime(2015, 12, 31)\n",
    "\n",
    "# Interesting:\n",
    "# USO, EWC, lookback=25, entryZScore=2, exitZScore=1, leverage=2\n",
    "# DBC, DJP, lookback=20, entryZScore=1, exitZScore=0, 2012-12-11 -> 2015-12-31\n",
    "# DBO, DJP, lookback=20, entryZScore=1, exitZScore=0, 2012-12-11 -> 2015-12-31\n",
    "# DBO, EWA, lookback=15, entryZScore=1.0, exitZScore=0, 2012-12-11 -> 2015-12-31\n",
    "# * DBO, DBC, lookback=15, entryZScore=1.4, exitZScore=0, 2012-12-11 -> 2015-12-31\n",
    "# * GLD, DBC, lookback=10, entryZScore=1.0, exitZScore=0, 2012-12-11 -> 2015-12-31\n",
    "# EWC, DJP, lookback=10, entryZScore=2.0, exitZScore=0.6, 2012-12-11 -> 2015-12-31\n",
    "\n",
    "\n",
    "def fetch(ticker):\n",
    "    global start_dt, end_dt\n",
    "    return web.DataReader(ticker, 'yahoo', start_dt, end_dt)['Adj Close']\n",
    "\n",
    "#SPY = fetch(\"SPY\")\n",
    "#DIA = fetch(\"DIA\")\n",
    "#QQQ = fetch(\"QQQ\")\n",
    "#IWM = fetch(\"IWM\")\n",
    "GLD = fetch(\"GLD\")\n",
    "USO = fetch(\"USO\")\n",
    "#DBO = fetch(\"DBO\")\n",
    "#EWA = fetch(\"EWA\")\n",
    "EWC = fetch(\"EWC\")\n",
    "DBC = fetch(\"DBC\")\n",
    "DJP = fetch(\"DJP\")\n",
    "#UNG = fetch(\"UNG\")\n"
   ]
  },
  {
   "cell_type": "code",
   "execution_count": 261,
   "metadata": {
    "collapsed": false
   },
   "outputs": [
    {
     "data": {
      "text/plain": [
       "<module 'returns' from 'returns.pyc'>"
      ]
     },
     "execution_count": 261,
     "metadata": {},
     "output_type": "execute_result"
    }
   ],
   "source": [
    "reload(optimize)\n",
    "reload(strategies)\n",
    "reload(portfolio)\n",
    "reload(returns)"
   ]
  },
  {
   "cell_type": "code",
   "execution_count": 273,
   "metadata": {
    "collapsed": false
   },
   "outputs": [
    {
     "name": "stdout",
     "output_type": "stream",
     "text": [
      "2015\n",
      "        Total return: 0.410\n",
      "        Sharpe ratio: 1.95\n",
      "        APR: 0.462\n",
      "        Drawdown: -0.17\n",
      "        Max Time in Drawdown: 166\n",
      "    \n"
     ]
    },
    {
     "data": {
      "image/png": "[encoded data removed]",
      "text/plain": [
       "<matplotlib.figure.Figure at 0x10dce2dd0>"
      ]
     },
     "metadata": {},
     "output_type": "display_data"
    }
   ],
   "source": [
    "strategy_results = bollinger_mean_revert(GLD, USO)\n",
    "#score_strategy(b_rets)\n",
    "returns.cumret(strategy_results['returns']).plot()\n",
    "print returns.report_str(strategy_results['returns'], \"2015\")"
   ]
  },
  {
   "cell_type": "code",
   "execution_count": 274,
   "metadata": {
    "collapsed": false
   },
   "outputs": [
    {
     "data": {
      "text/plain": [
       "10"
      ]
     },
     "execution_count": 274,
     "metadata": {},
     "output_type": "execute_result"
    }
   ],
   "source": [
    "strategy_results['lookback']"
   ]
  },
  {
   "cell_type": "code",
   "execution_count": 282,
   "metadata": {
    "collapsed": false
   },
   "outputs": [],
   "source": [
    "def explore(x, y, xname=\"x\", yname=\"y\", lookback=None):\n",
    "    print '-' * 80\n",
    "    print 'Bollinger Band Mean Reversion Strategy: %s vs %s' % (xname, yname)\n",
    "    print '-' * 80\n",
    "    print\n",
    "    print\n",
    "    results = bollinger_mean_revert(x, y, lookback=lookback)\n",
    "    print returns.report_str(results['returns'], \"Returns\")\n",
    "    print strategies.report_str(results['units'], \"Trades\")\n",
    "    print score_strategy(results)\n",
    "    print\n",
    "    print"
   ]
  },
  {
   "cell_type": "code",
   "execution_count": 283,
   "metadata": {
    "collapsed": false
   },
   "outputs": [
    {
     "name": "stdout",
     "output_type": "stream",
     "text": [
      "--------------------------------------------------------------------------------\n",
      "Bollinger Band Mean Reversion Strategy: GLD vs DBC\n",
      "--------------------------------------------------------------------------------\n",
      "\n",
      "\n",
      "Returns\n",
      "        Total return: 0.184\n",
      "        Sharpe ratio: 1.68\n",
      "        APR: 0.201\n",
      "        Drawdown: -0.08\n",
      "        Max Time in Drawdown: 133\n",
      "    \n",
      "Trades\n",
      "        Total trades: 40\n",
      "        Trades per day: 0.17\n",
      "        Days per trade: 6.00\n",
      "        Percent time in market: 0.81\n",
      "        Bars in market: 195\n",
      "    \n",
      "1.67876232392\n",
      "\n",
      "\n",
      "--------------------------------------------------------------------------------\n",
      "Bollinger Band Mean Reversion Strategy: USO vs EWC\n",
      "--------------------------------------------------------------------------------\n",
      "\n",
      "\n",
      "Returns\n",
      "        Total return: 0.108\n",
      "        Sharpe ratio: 0.95\n",
      "        APR: 0.122\n",
      "        Drawdown: -0.14\n",
      "        Max Time in Drawdown: 89\n",
      "    \n",
      "Trades\n",
      "        Total trades: 43\n",
      "        Trades per day: 0.18\n",
      "        Days per trade: 5.58\n",
      "        Percent time in market: 0.78\n",
      "        Bars in market: 187\n",
      "    \n",
      "0.947617353357\n",
      "\n",
      "\n",
      "--------------------------------------------------------------------------------\n",
      "Bollinger Band Mean Reversion Strategy: GLD vs USO\n",
      "--------------------------------------------------------------------------------\n",
      "\n",
      "\n",
      "Returns\n",
      "        Total return: 0.410\n",
      "        Sharpe ratio: 1.95\n",
      "        APR: 0.462\n",
      "        Drawdown: -0.17\n",
      "        Max Time in Drawdown: 166\n",
      "    \n",
      "Trades\n",
      "        Total trades: 41\n",
      "        Trades per day: 0.17\n",
      "        Days per trade: 5.85\n",
      "        Percent time in market: 0.84\n",
      "        Bars in market: 202\n",
      "    \n",
      "1.9454395417\n",
      "\n",
      "\n",
      "--------------------------------------------------------------------------------\n",
      "Bollinger Band Mean Reversion Strategy: EWC vs DJP\n",
      "--------------------------------------------------------------------------------\n",
      "\n",
      "\n",
      "Returns\n",
      "        Total return: -0.105\n",
      "        Sharpe ratio: -1.32\n",
      "        APR: -0.107\n",
      "        Drawdown: -0.13\n",
      "        Max Time in Drawdown: 221\n",
      "    \n",
      "Trades\n",
      "        Total trades: 49\n",
      "        Trades per day: 0.20\n",
      "        Days per trade: 4.90\n",
      "        Percent time in market: 0.76\n",
      "        Bars in market: 183\n",
      "    \n",
      "-1.32110793484\n",
      "\n",
      "\n"
     ]
    }
   ],
   "source": [
    "explore(GLD, DBC, xname=\"GLD\", yname=\"DBC\", lookback=10)\n",
    "explore(USO, EWC, xname=\"USO\", yname=\"EWC\", lookback=10)\n",
    "explore(GLD, USO, xname=\"GLD\", yname=\"USO\", lookback=10)\n",
    "explore(EWC, DJP, xname=\"EWC\", yname=\"DJP\", lookback=10)"
   ]
  },
  {
   "cell_type": "code",
   "execution_count": null,
   "metadata": {
    "collapsed": true
   },
   "outputs": [],
   "source": []
  }
 ],
 "metadata": {
  "kernelspec": {
   "display_name": "Python 2",
   "language": "python",
   "name": "python2"
  },
  "language_info": {
   "codemirror_mode": {
    "name": "ipython",
    "version": 2
   },
   "file_extension": ".py",
   "mimetype": "text/x-python",
   "name": "python",
   "nbconvert_exporter": "python",
   "pygments_lexer": "ipython2",
   "version": "2.7.10"
  }
 },
 "nbformat": 4,
 "nbformat_minor": 0
}
