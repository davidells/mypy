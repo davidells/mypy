{
 "cells": [
  {
   "cell_type": "code",
   "execution_count": 4,
   "metadata": {
    "collapsed": true
   },
   "outputs": [],
   "source": [
    "import numpy as np\n",
    "import pandas as pd\n",
    "import matplotlib.pyplot as plt\n",
    "import datetime\n",
    "\n",
    "%matplotlib inline"
   ]
  },
  {
   "cell_type": "code",
   "execution_count": 5,
   "metadata": {
    "collapsed": true
   },
   "outputs": [],
   "source": [
    "start_dt = datetime.datetime(2007, 1, 1)\n",
    "end_dt = datetime.datetime(2012, 4, 9)"
   ]
  },
  {
   "cell_type": "code",
   "execution_count": 6,
   "metadata": {
    "collapsed": true
   },
   "outputs": [],
   "source": [
    "import pandas.io.data as web\n",
    "EWA = web.DataReader(\"EWA\", 'yahoo', start_dt, end_dt)['Adj Close']\n",
    "EWC = web.DataReader(\"EWC\", 'yahoo', start_dt, end_dt)['Adj Close']"
   ]
  },
  {
   "cell_type": "code",
   "execution_count": 8,
   "metadata": {
    "collapsed": false
   },
   "outputs": [
    {
     "data": {
      "text/plain": [
       "array([ 1.18686828])"
      ]
     },
     "execution_count": 8,
     "metadata": {},
     "output_type": "execute_result"
    }
   ],
   "source": [
    "# OLS of EWC ~ EWA\n",
    "from sklearn.linear_model import LinearRegression\n",
    "model = LinearRegression().fit(EWA[:,None], EWC)\n",
    "model.coef_"
   ]
  },
  {
   "cell_type": "code",
   "execution_count": 11,
   "metadata": {
    "collapsed": false
   },
   "outputs": [
    {
     "name": "stdout",
     "output_type": "stream",
     "text": [
      "Beta: [ 1.25271083  2.53805376]\n",
      "Beta Std Error: [ 0.01026167  0.18040249]\n",
      "Beta Covariance: [[ 0.00017444 -0.0030112 ]\n",
      " [-0.0030112   0.05391457]]\n",
      "Residual Variance: 0.603641333289\n",
      "Inverse Condition #: 0.0103122997464\n",
      "Reason(s) for Halting:\n",
      "  Sum of squares convergence\n"
     ]
    }
   ],
   "source": [
    "# TLS of EWA ~ EWC\n",
    "import scipy.odr as odr\n",
    "linear = odr.Model(lambda B,x: B[0]*x + B[1])\n",
    "mydata = odr.Data(EWA, EWC)\n",
    "myodr = odr.ODR(mydata, linear, beta0=[0,0])\n",
    "myoutput = myodr.run()\n",
    "myoutput.pprint()"
   ]
  },
  {
   "cell_type": "code",
   "execution_count": null,
   "metadata": {
    "collapsed": true
   },
   "outputs": [],
   "source": []
  }
 ],
 "metadata": {
  "kernelspec": {
   "display_name": "Python 2",
   "language": "python",
   "name": "python2"
  },
  "language_info": {
   "codemirror_mode": {
    "name": "ipython",
    "version": 2
   },
   "file_extension": ".py",
   "mimetype": "text/x-python",
   "name": "python",
   "nbconvert_exporter": "python",
   "pygments_lexer": "ipython2",
   "version": "2.7.10"
  }
 },
 "nbformat": 4,
 "nbformat_minor": 0
}
